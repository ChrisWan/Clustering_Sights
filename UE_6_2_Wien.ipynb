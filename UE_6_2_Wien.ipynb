{
 "cells": [
  {
   "cell_type": "code",
   "execution_count": 1,
   "metadata": {},
   "outputs": [],
   "source": [
    "import pandas as pd\n",
    "import matplotlib.pyplot as plt\n",
    "import numpy as np\n",
    "from shapely.geometry import MultiPoint\n",
    "from geopy.distance import great_circle\n",
    "from sklearn.cluster import DBSCAN\n",
    "from sklearn.preprocessing import StandardScaler"
   ]
  },
  {
   "cell_type": "code",
   "execution_count": 2,
   "metadata": {},
   "outputs": [],
   "source": [
    "df_not_prep = pd.read_csv('vienna_sights_adjusted.csv', sep=',')\n",
    "#angepasster Dataframe -> einige Sights haben keine Koordinaten gehabt, oder diese sind in der falschen Spalte gestanden. Für die Aufgabe\n",
    "#sind die Spalte name und die Koordinaten von Bedeutung. Rest kann entfernt werden."
   ]
  },
  {
   "cell_type": "code",
   "execution_count": 3,
   "metadata": {},
   "outputs": [],
   "source": [
    "df = df_not_prep.filter(items=['name', 'latitude', 'longitude'])"
   ]
  },
  {
   "cell_type": "code",
   "execution_count": 4,
   "metadata": {},
   "outputs": [
    {
     "name": "stderr",
     "output_type": "stream",
     "text": [
      "C:\\Users\\Christian\\Anaconda3\\lib\\site-packages\\ipykernel_launcher.py:2: FutureWarning: Method .as_matrix will be removed in a future version. Use .values instead.\n",
      "  \n"
     ]
    }
   ],
   "source": [
    "#create matrix for DBScan\n",
    "coords = df.as_matrix(columns=['latitude', 'longitude'])"
   ]
  },
  {
   "cell_type": "markdown",
   "metadata": {},
   "source": [
    "Erdradius und epsilon setzen. Zuerst epsilion nach Angabe auf 350 Meter setzen. Später Epsilon verändern."
   ]
  },
  {
   "cell_type": "code",
   "execution_count": 5,
   "metadata": {},
   "outputs": [],
   "source": [
    "kms_per_radian = 6371.0088"
   ]
  },
  {
   "cell_type": "code",
   "execution_count": 6,
   "metadata": {},
   "outputs": [],
   "source": [
    "# laut Angabe 350 Meter\n",
    "#epsilon = 0.35 / kms_per_radian\n",
    "# Versuch Angabe 500 Meter\n",
    "#epsilon = 0.5 / kms_per_radian\n",
    "#Versuch Angabe 600 Meter\n",
    "epsilon = 0.6 / kms_per_radian"
   ]
  },
  {
   "cell_type": "code",
   "execution_count": 7,
   "metadata": {},
   "outputs": [],
   "source": [
    "db = DBSCAN(eps=epsilon, min_samples=4, algorithm='auto', metric='haversine').fit(np.radians(coords))"
   ]
  },
  {
   "cell_type": "code",
   "execution_count": 8,
   "metadata": {},
   "outputs": [],
   "source": [
    "cluster_labels = db.labels_"
   ]
  },
  {
   "cell_type": "code",
   "execution_count": 9,
   "metadata": {},
   "outputs": [],
   "source": [
    "num_clusters = len(set(cluster_labels)) - (1 if -1 in cluster_labels else 0)\n",
    "n_noise_ = list(cluster_labels).count(-1)"
   ]
  },
  {
   "cell_type": "code",
   "execution_count": 10,
   "metadata": {},
   "outputs": [
    {
     "name": "stdout",
     "output_type": "stream",
     "text": [
      "Estimated number of clusters: 3\n",
      "Estimated number of noise points: 40\n"
     ]
    }
   ],
   "source": [
    "print('Estimated number of clusters: %d' % num_clusters)\n",
    "print('Estimated number of noise points: %d' % n_noise_)"
   ]
  },
  {
   "cell_type": "code",
   "execution_count": 11,
   "metadata": {},
   "outputs": [],
   "source": [
    "clusters = pd.Series([coords[cluster_labels == n] for n in range(num_clusters)])"
   ]
  },
  {
   "cell_type": "markdown",
   "metadata": {},
   "source": [
    "Zwei Funktionen definieren für Centroid bekommen und die Namen der Sights bekommen."
   ]
  },
  {
   "cell_type": "code",
   "execution_count": 12,
   "metadata": {},
   "outputs": [],
   "source": [
    "def get_centermost_point(cluster):\n",
    "    centroid = (MultiPoint(cluster).centroid.x, MultiPoint(cluster).centroid.y)\n",
    "    centermost_point = min(cluster, key=lambda point: great_circle(point, centroid).m)\n",
    "    return tuple(centermost_point)"
   ]
  },
  {
   "cell_type": "code",
   "execution_count": 13,
   "metadata": {
    "scrolled": false
   },
   "outputs": [
    {
     "name": "stdout",
     "output_type": "stream",
     "text": [
      "=========================== CLUSTER START ===========================\n",
      "Leopold Museum\n",
      "Mozarthaus Vienna 'Figarohaus'\n",
      "Naturhistorisches Museum\n",
      "Schatzkammer\n",
      "Secession\n",
      "Sisi Museum\n",
      "Votivkirche\n",
      "Wien Museum Karlsplatz\n",
      "Schmetterlinghaus\n",
      "Spanische Hofreitschule\n",
      "Wiener Staatsoper\n",
      "Zentralfriedhof (Ehrengräber)\n",
      "Augustinerkirche\n",
      "Donauturm\n",
      "Kirche am Steinhof\n",
      "=========================== CLUSTER END ===========================\n",
      "=========================== CLUSTER START ===========================\n",
      "MUMOK Museum Moderner Kunst Stiftung Ludwig Wien\n",
      "Österreichische Nationalbibliothek\n",
      "Musikverein\n",
      "Sigmund Freud Museum\n",
      "Albertina\n",
      "Islamisches Zentrum Wien / Moschee\n",
      "Karlskirche\n",
      "=========================== CLUSTER END ===========================\n",
      "=========================== CLUSTER START ===========================\n",
      "Technisches Museum\n",
      "Schönbrunn - Irrgarten\n",
      "Ankeruhr\n",
      "Palmenhaus\n",
      "=========================== CLUSTER END ===========================\n"
     ]
    },
    {
     "data": {
      "text/plain": [
       "0    None\n",
       "1    None\n",
       "2    None\n",
       "dtype: object"
      ]
     },
     "execution_count": 13,
     "metadata": {},
     "output_type": "execute_result"
    }
   ],
   "source": [
    "def get_name(cluster):\n",
    "    print('=========================== CLUSTER START ===========================')\n",
    "    lats, lons = zip(*cluster)\n",
    "    for l in lats:\n",
    "        for index, row in df.iterrows():\n",
    "            if(l == row['latitude']):\n",
    "                print(row['name'])\n",
    "    print('=========================== CLUSTER END ===========================')\n",
    "\n",
    "\n",
    "clusters.map(get_name)"
   ]
  },
  {
   "cell_type": "code",
   "execution_count": 14,
   "metadata": {},
   "outputs": [
    {
     "data": {
      "image/png": "[encoded data removed]",
      "text/plain": [
       "<Figure size 432x288 with 1 Axes>"
      ]
     },
     "metadata": {
      "needs_background": "light"
     },
     "output_type": "display_data"
    }
   ],
   "source": [
    "# Black removed and is used for noise instead.\n",
    "core_samples_mask = np.zeros_like(db.labels_, dtype=bool)\n",
    "core_samples_mask[db.core_sample_indices_] = True\n",
    "unique_labels = set(cluster_labels)\n",
    "colors = [plt.cm.Spectral(each)\n",
    "          for each in np.linspace(0, 1, len(unique_labels))]\n",
    "for k, col in zip(unique_labels, colors):\n",
    "    if k == -1:\n",
    "        # Black used for noise.\n",
    "        col = [0, 0, 0, 1]\n",
    "\n",
    "    class_member_mask = (cluster_labels == k)\n",
    "\n",
    "    X = StandardScaler().fit_transform(np.radians(coords))\n",
    "    xy = X[class_member_mask & core_samples_mask]\n",
    "    plt.plot(xy[:, 0], xy[:, 1], 'o', markerfacecolor=tuple(col),\n",
    "             markeredgecolor='k', markersize=14)\n",
    "\n",
    "    xy = X[class_member_mask & ~core_samples_mask]\n",
    "    plt.plot(xy[:, 0], xy[:, 1], 'o', markerfacecolor=tuple(col),\n",
    "             markeredgecolor='k', markersize=6)\n",
    "\n",
    "plt.title('Estimated number of clusters: %d' % num_clusters)\n",
    "plt.show()"
   ]
  },
  {
   "cell_type": "code",
   "execution_count": null,
   "metadata": {},
   "outputs": [],
   "source": []
  },
  {
   "cell_type": "code",
   "execution_count": null,
   "metadata": {},
   "outputs": [],
   "source": []
  }
 ],
 "metadata": {
  "kernelspec": {
   "display_name": "Python 3",
   "language": "python",
   "name": "python3"
  },
  "language_info": {
   "codemirror_mode": {
    "name": "ipython",
    "version": 3
   },
   "file_extension": ".py",
   "mimetype": "text/x-python",
   "name": "python",
   "nbconvert_exporter": "python",
   "pygments_lexer": "ipython3",
   "version": "3.7.1"
  }
 },
 "nbformat": 4,
 "nbformat_minor": 2
}
